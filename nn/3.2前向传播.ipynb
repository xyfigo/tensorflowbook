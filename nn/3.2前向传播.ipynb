{
 "cells": [
  {
   "cell_type": "markdown",
   "metadata": {},
   "source": [
    "# 一、神经网络的参数 #\n",
    "\n",
    "神经网络的参数，是指神经元线上的权重w，用变量表示，一般计算前会随机生成初始化参数值。生成方法是w=tf.Variable(生成方式)。常用的生成随机数/数组的函数有：\n",
    "\n",
    "tf.random_normal([2,3], stddev=2, mean=0, seed=1)：   正态分布(2行3列，标准差是2，均值是0，随机种子是1）\n",
    "\n",
    "tf.truncated_normal()：   去掉过大偏离点的正态分布\n",
    "\n",
    "tf.random_uniform(shape=7, minval=0, maxval=1, dtype=tf.int32, seed=1)：   均匀分布(左闭右开[ minval, maxval)随机采样）\n",
    "\n",
    "tf.zeros()：     全0数组\n",
    "\n",
    "tf.ones()：     全1数组\n",
    "\n",
    "tf.fill()：     全定值数组\n",
    "\n",
    "tf.constant()：    指定值的数组\n"
   ]
  },
  {
   "cell_type": "markdown",
   "metadata": {},
   "source": [
    "# 二、神经网络的搭建 #\n",
    "\n",
    "神经网络的实现过程：\n",
    "\n",
    "1、准备数据集，提取特征，作为输入喂给神经网络\n",
    "\n",
    "2、搭建NN结构，从输入到输出（先搭建计算图，再用会话执行）\n",
    "\n",
    "NN前向传播算法=》计算输出\n",
    "\n",
    "3、大量特征数据喂给NN，迭代优化NN参数\n",
    "NN反向传播算法=》优化参数训练模型\n",
    "\n",
    "4、使用训练好的模型预测和分类\n",
    "\n",
    "神经网络的机器学习分为两个过程，即**训练过程**和**使用过程**。\n",
    "\n",
    "训练过程是第一步、第二步和第三步。使用过程是第四步。一旦参数优化完成就可以固定这些参数，实现特定应用了。\n",
    "\n",
    "很多实际应用中，我们会先使用现有的成熟网络结构，喂入新的数据，训练相应模型，判断是否能对喂入的从未见过的数据做出正确的响应，再适当更改挖网络结构，反复迭代，让机器自动训练参数找出最优结构和参数，以固定专用模型。\n",
    "\n",
    "# 三、前向传播 #\n",
    "\n",
    "前向传播就是搭建模型的计算过程，让模型具有推理能力，可以针对一组输入给出相应的输出。\n",
    "\n"
   ]
  }
 ],
 "metadata": {
  "kernelspec": {
   "display_name": "Python 3",
   "language": "python",
   "name": "python3"
  },
  "language_info": {
   "codemirror_mode": {
    "name": "ipython",
    "version": 3
   },
   "file_extension": ".py",
   "mimetype": "text/x-python",
   "name": "python",
   "nbconvert_exporter": "python",
   "pygments_lexer": "ipython3",
   "version": "3.7.4"
  }
 },
 "nbformat": 4,
 "nbformat_minor": 2
}
