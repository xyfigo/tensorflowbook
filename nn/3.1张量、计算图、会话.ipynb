{
 "cells": [
  {
   "cell_type": "markdown",
   "metadata": {},
   "source": [
    "在TensorFlow中，使用张量表示数据，用计算图搭建神经网络，用会话执行计算图，优化线上的权重（参数），得到模型。\n",
    "\n",
    "## 张量 ##\n",
    "\n",
    "张量就是多维数组，用阶表示张量的维度。\n",
    "\n",
    "0阶张量： **标量**，例如123\n",
    "\n",
    "1阶张量： **向量**，例如[1,2,3]\n",
    "\n",
    "2阶张量： **矩阵**，例如[[1,2,3],[4,5,6],[7,8,9]]\n",
    "\n",
    "n阶张量： **n阶数组**，张量右边有n个方括号[[[[[……(**n个[**)\n",
    "\n",
    "## 数据类型 ##\n",
    "\n",
    "TensorFlow的数据类型有：tf.float32、tf.int32等。\n"
   ]
  },
  {
   "cell_type": "code",
   "execution_count": 3,
   "metadata": {},
   "outputs": [
    {
     "name": "stdout",
     "output_type": "stream",
     "text": [
      "tf.Tensor([4. 6.], shape=(2,), dtype=float32)\n"
     ]
    }
   ],
   "source": [
    "import tensorflow as tf\n",
    "\n",
    "#定义一个张量等于[1.0, 2.0]\n",
    "a=tf.constant([1.0, 2.0])\n",
    "#定义一个张量等于[3.0, 4.0]\n",
    "b=tf.constant([3.0, 4.0])\n",
    "#实现a+b的加法\n",
    "result=a+b\n",
    "#打印结果\n",
    "print(result)\n"
   ]
  },
  {
   "cell_type": "markdown",
   "metadata": {},
   "source": [
    "输出结果： shape=(2,)表示一维数组长度为2，dtype=float32表示数据类型为浮点型。\n",
    "\n",
    "## 计算图 ##\n",
    "\n",
    "搭建神经网络的计算过程，承载一个或多个计算节点的一张图，只搭建网络，不运算。\n",
    "\n",
    "神经网络的基本模型是神经元，神经元的基本模型其实就是数学中的乘、加运算。\n",
    "\n",
    "下面用x1、x2表示输入，w1、w2表示x1到y和x2到y的权重，y=x1* w1+x2* w2"
   ]
  },
  {
   "cell_type": "code",
   "execution_count": 7,
   "metadata": {},
   "outputs": [
    {
     "name": "stdout",
     "output_type": "stream",
     "text": [
      "tf.Tensor([[11.]], shape=(1, 1), dtype=float32)\n"
     ]
    }
   ],
   "source": [
    "x=tf.constant([[1.0, 2.0]])\n",
    "w=tf.constant([[3.0], [4.0]])\n",
    "y=tf.matmul(x,w)\n",
    "print(y)"
   ]
  },
  {
   "cell_type": "markdown",
   "metadata": {},
   "source": [
    "这里的输出为：tf.Tensor([[11.]], shape=(1, 1), dtype=float32)，表示y是一个张量，只搭建承载计算过程的计算图，并没有运算，如果我们想得到运算结果就要用到会话Session()。"
   ]
  },
  {
   "cell_type": "markdown",
   "metadata": {},
   "source": [
    "## 会话（Session）##\n",
    "\n",
    "执行计算图中的节点运算。\n",
    "\n",
    "我们用with结构实现，语法如下：\n",
    "\n",
    "``` python\n",
    "with tf.Session() as sess:\n",
    "    print(sess.run(y))\n",
    "```"
   ]
  },
  {
   "cell_type": "code",
   "execution_count": 15,
   "metadata": {},
   "outputs": [
    {
     "name": "stdout",
     "output_type": "stream",
     "text": [
      "[[11.]]\n"
     ]
    }
   ],
   "source": [
    "#接上面的计算图y，使用Session执行。\n",
    "tf.compat.v1.disable_eager_execution()\n",
    "x=tf.constant([[1.0, 2.0]])\n",
    "w=tf.constant([[3.0], [4.0]])\n",
    "y=tf.matmul(x,w)\n",
    "with tf.compat.v1.Session() as sess:\n",
    "    print(sess.run(y))"
   ]
  },
  {
   "cell_type": "code",
   "execution_count": null,
   "metadata": {},
   "outputs": [],
   "source": [
    "运行Session()后打印出执行结果为11。"
   ]
  }
 ],
 "metadata": {
  "kernelspec": {
   "display_name": "Python 3",
   "language": "python",
   "name": "python3"
  },
  "language_info": {
   "codemirror_mode": {
    "name": "ipython",
    "version": 3
   },
   "file_extension": ".py",
   "mimetype": "text/x-python",
   "name": "python",
   "nbconvert_exporter": "python",
   "pygments_lexer": "ipython3",
   "version": "3.7.4"
  }
 },
 "nbformat": 4,
 "nbformat_minor": 2
}
